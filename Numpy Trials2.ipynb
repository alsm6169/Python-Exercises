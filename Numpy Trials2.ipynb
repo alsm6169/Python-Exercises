{
 "cells": [
  {
   "cell_type": "code",
   "execution_count": 4,
   "metadata": {},
   "outputs": [
    {
     "name": "stdout",
     "output_type": "stream",
     "text": [
      "x = [0 1 2 3]x.shape = (4,)\n",
      "xx = [0 1 2 3]xx.shape = (4, 1)\n",
      "y = [1. 1. 1. 1. 1.]y.shape = (5,)\n",
      "z(xx+y) = [[1. 1. 1. 1. 1.]\n",
      " [2. 2. 2. 2. 2.]\n",
      " [3. 3. 3. 3. 3.]\n",
      " [4. 4. 4. 4. 4.]]z.shape = (4, 5)\n"
     ]
    }
   ],
   "source": [
    "import numpy as np\n",
    "x = np.arange(4)\n",
    "print(\"x = \" + str(x) + \"x.shape = \" + str(x.shape))\n",
    "xx= x.reshape(4,1)\n",
    "print(\"xx = \" + str(x) + \"xx.shape = \" + str(xx.shape))\n",
    "y = np.ones(5)\n",
    "print(\"y = \" + str(y) + \"y.shape = \" + str(y.shape))\n",
    "z = xx+y\n",
    "print(\"z(xx+y) = \" + str(z) + \"z.shape = \" + str(z.shape))"
   ]
  },
  {
   "cell_type": "code",
   "execution_count": 7,
   "metadata": {},
   "outputs": [
    {
     "name": "stdout",
     "output_type": "stream",
     "text": [
      "B = [[-1.50732273]\n",
      " [-0.95104126]\n",
      " [-2.01843685]\n",
      " [-0.350199  ]], B.Shape() = (4, 1)\n"
     ]
    }
   ],
   "source": [
    "A = np.random.randn(4,3)\n",
    "B = np.sum(A, axis = 1, keepdims = True)\n",
    "print (\"B = \" + str(B) + \", B.Shape() = \" + str(B.shape))"
   ]
  },
  {
   "cell_type": "code",
   "execution_count": 8,
   "metadata": {},
   "outputs": [
    {
     "data": {
      "text/plain": [
       "array([[-1.58407935, -1.00575931,  1.08251593],\n",
       "       [-1.26003416,  0.34850907, -0.03951617],\n",
       "       [-0.50190371, -0.82170597, -0.69482717],\n",
       "       [-0.4883654 ,  0.18676215, -0.04859575]])"
      ]
     },
     "execution_count": 8,
     "metadata": {},
     "output_type": "execute_result"
    }
   ],
   "source": [
    "A"
   ]
  },
  {
   "cell_type": "code",
   "execution_count": null,
   "metadata": {},
   "outputs": [],
   "source": []
  }
 ],
 "metadata": {
  "kernelspec": {
   "display_name": "Python 3",
   "language": "python",
   "name": "python3"
  },
  "language_info": {
   "codemirror_mode": {
    "name": "ipython",
    "version": 3
   },
   "file_extension": ".py",
   "mimetype": "text/x-python",
   "name": "python",
   "nbconvert_exporter": "python",
   "pygments_lexer": "ipython3",
   "version": "3.6.6"
  }
 },
 "nbformat": 4,
 "nbformat_minor": 2
}
